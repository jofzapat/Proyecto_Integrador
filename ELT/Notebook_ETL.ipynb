{
 "cells": [
  {
   "cell_type": "markdown",
   "metadata": {},
   "source": [
    "## ETL ANALISIS DESCRIPTIVO HUMEDAD DEL SUELTO BASE DEL SIATA"
   ]
  },
  {
   "cell_type": "markdown",
   "metadata": {},
   "source": [
    "Carga de librerias para el ETL"
   ]
  },
  {
   "cell_type": "code",
   "execution_count": 1,
   "metadata": {},
   "outputs": [
    {
     "name": "stderr",
     "output_type": "stream",
     "text": [
      "c:\\Users\\jofza\\anaconda3\\lib\\site-packages\\pandas\\core\\arrays\\masked.py:60: UserWarning: Pandas requires version '1.3.6' or newer of 'bottleneck' (version '1.3.5' currently installed).\n",
      "  from pandas.core import (\n"
     ]
    }
   ],
   "source": [
    "import pandas as pd\n",
    "from sodapy import Socrata\n",
    "import sqlite3\n",
    "import os\n",
    "import calendar\n",
    "import ephem\n",
    "import pandas as pd"
   ]
  },
  {
   "cell_type": "markdown",
   "metadata": {},
   "source": [
    "Parametros de nombre de la carpeta y nombre de la tabla a ingestar en base de datos"
   ]
  },
  {
   "cell_type": "code",
   "execution_count": 14,
   "metadata": {},
   "outputs": [],
   "source": [
    "carpeta = 'Historico_humedad'\n",
    "nombre_tabla = 'Historico_humedad'"
   ]
  },
  {
   "cell_type": "markdown",
   "metadata": {},
   "source": [
    "Extraccion de la información manual"
   ]
  },
  {
   "cell_type": "code",
   "execution_count": 4,
   "metadata": {},
   "outputs": [],
   "source": [
    "def ingesta_aut(carpeta,nombre_tabla):\n",
    "    contenido = os.listdir(str('./'+ str(carpeta) +'/'))\n",
    "    df_tbl = pd.DataFrame()\n",
    "    for i in contenido:\n",
    "        df = pd.read_csv(r'./'+ str(carpeta) +'/'+str(i), sep= ',', encoding='latin-1')\n",
    "        df_tbl =  pd.concat([df_tbl, df])\n",
    "    db_path = 'Data_Base.db'\n",
    "    conn = sqlite3.connect(db_path)\n",
    "    df_tbl.to_sql(str('tbl_siata_')+str(nombre_tabla) , conn, if_exists='replace', index=False)\n",
    "    return print('La ingesta se realizó correctamente a la tabla ' + str (nombre_tabla))"
   ]
  },
  {
   "cell_type": "markdown",
   "metadata": {},
   "source": [
    "Carga en base de datos local"
   ]
  },
  {
   "cell_type": "code",
   "execution_count": 15,
   "metadata": {},
   "outputs": [],
   "source": [
    "ingesta_aut(carpeta,nombre_tabla)"
   ]
  },
  {
   "cell_type": "markdown",
   "metadata": {},
   "source": [
    "Creación de dimensión de tiempo y posterior a esta la creación de nuevas variables exogenas"
   ]
  },
  {
   "cell_type": "code",
   "execution_count": 7,
   "metadata": {},
   "outputs": [
    {
     "name": "stderr",
     "output_type": "stream",
     "text": [
      "C:\\Users\\jofza\\AppData\\Local\\Temp\\ipykernel_5300\\3259203753.py:1: FutureWarning: 'H' is deprecated and will be removed in a future version, please use 'h' instead.\n",
      "  tbl_dim_tiempo = pd.DataFrame(pd.date_range(\"2021-09-01\",\"2023-09-01\", freq='H'), columns=['fecha_hora'])\n"
     ]
    },
    {
     "data": {
      "text/html": [
       "<div>\n",
       "<style scoped>\n",
       "    .dataframe tbody tr th:only-of-type {\n",
       "        vertical-align: middle;\n",
       "    }\n",
       "\n",
       "    .dataframe tbody tr th {\n",
       "        vertical-align: top;\n",
       "    }\n",
       "\n",
       "    .dataframe thead th {\n",
       "        text-align: right;\n",
       "    }\n",
       "</style>\n",
       "<table border=\"1\" class=\"dataframe\">\n",
       "  <thead>\n",
       "    <tr style=\"text-align: right;\">\n",
       "      <th></th>\n",
       "      <th>fecha_hora</th>\n",
       "      <th>fecha</th>\n",
       "      <th>fecha_id</th>\n",
       "      <th>mes</th>\n",
       "      <th>dia_mes</th>\n",
       "      <th>semana</th>\n",
       "      <th>dia</th>\n",
       "    </tr>\n",
       "  </thead>\n",
       "  <tbody>\n",
       "    <tr>\n",
       "      <th>0</th>\n",
       "      <td>2021-09-01 00:00:00</td>\n",
       "      <td>2021-09-01</td>\n",
       "      <td>2021-09-01 00</td>\n",
       "      <td>09</td>\n",
       "      <td>01</td>\n",
       "      <td>35</td>\n",
       "      <td>Miércoles</td>\n",
       "    </tr>\n",
       "    <tr>\n",
       "      <th>1</th>\n",
       "      <td>2021-09-01 01:00:00</td>\n",
       "      <td>2021-09-01</td>\n",
       "      <td>2021-09-01 01</td>\n",
       "      <td>09</td>\n",
       "      <td>01</td>\n",
       "      <td>35</td>\n",
       "      <td>Miércoles</td>\n",
       "    </tr>\n",
       "    <tr>\n",
       "      <th>2</th>\n",
       "      <td>2021-09-01 02:00:00</td>\n",
       "      <td>2021-09-01</td>\n",
       "      <td>2021-09-01 02</td>\n",
       "      <td>09</td>\n",
       "      <td>01</td>\n",
       "      <td>35</td>\n",
       "      <td>Miércoles</td>\n",
       "    </tr>\n",
       "    <tr>\n",
       "      <th>3</th>\n",
       "      <td>2021-09-01 03:00:00</td>\n",
       "      <td>2021-09-01</td>\n",
       "      <td>2021-09-01 03</td>\n",
       "      <td>09</td>\n",
       "      <td>01</td>\n",
       "      <td>35</td>\n",
       "      <td>Miércoles</td>\n",
       "    </tr>\n",
       "    <tr>\n",
       "      <th>4</th>\n",
       "      <td>2021-09-01 04:00:00</td>\n",
       "      <td>2021-09-01</td>\n",
       "      <td>2021-09-01 04</td>\n",
       "      <td>09</td>\n",
       "      <td>01</td>\n",
       "      <td>35</td>\n",
       "      <td>Miércoles</td>\n",
       "    </tr>\n",
       "  </tbody>\n",
       "</table>\n",
       "</div>"
      ],
      "text/plain": [
       "           fecha_hora       fecha       fecha_id mes dia_mes  semana  \\\n",
       "0 2021-09-01 00:00:00  2021-09-01  2021-09-01 00  09      01      35   \n",
       "1 2021-09-01 01:00:00  2021-09-01  2021-09-01 01  09      01      35   \n",
       "2 2021-09-01 02:00:00  2021-09-01  2021-09-01 02  09      01      35   \n",
       "3 2021-09-01 03:00:00  2021-09-01  2021-09-01 03  09      01      35   \n",
       "4 2021-09-01 04:00:00  2021-09-01  2021-09-01 04  09      01      35   \n",
       "\n",
       "         dia  \n",
       "0  Miércoles  \n",
       "1  Miércoles  \n",
       "2  Miércoles  \n",
       "3  Miércoles  \n",
       "4  Miércoles  "
      ]
     },
     "execution_count": 7,
     "metadata": {},
     "output_type": "execute_result"
    }
   ],
   "source": [
    "tbl_dim_tiempo = pd.DataFrame(pd.date_range(\"2021-09-01\",\"2023-09-01\", freq='H'), columns=['fecha_hora']) \n",
    "tbl_dim_tiempo['fecha'] = tbl_dim_tiempo.fecha_hora.dt.strftime(\"%Y-%m-%d\").astype(str)\n",
    "tbl_dim_tiempo['fecha_id'] = tbl_dim_tiempo.fecha_hora.dt.strftime(\"%Y-%m-%d %H\").astype(str)\n",
    "tbl_dim_tiempo['mes'] = tbl_dim_tiempo.fecha_hora.dt.strftime(\"%m\").astype(str)\n",
    "tbl_dim_tiempo['dia_mes'] = tbl_dim_tiempo.fecha_hora.dt.strftime(\"%d\").astype(str)\n",
    "tbl_dim_tiempo['semana'] = tbl_dim_tiempo.fecha_hora.dt.isocalendar().week\n",
    "tbl_dim_tiempo['dia'] = tbl_dim_tiempo.fecha_hora.dt.day_name(locale='es_CO')\n",
    "tbl_dim_tiempo.head(5)"
   ]
  },
  {
   "cell_type": "markdown",
   "metadata": {},
   "source": [
    "Crea la función para traer la fases de la luna y la iluminación de acuerdo a la fecha"
   ]
  },
  {
   "cell_type": "code",
   "execution_count": 11,
   "metadata": {},
   "outputs": [],
   "source": [
    "def get_lunar_phase_and_illumination(date):\n",
    "    observer = ephem.Observer()\n",
    "    observer.lat, observer.lon = '6.244203', '-75.581215'  # Medellín coordinates\n",
    "    observer.date = date\n",
    "    moon = ephem.Moon(observer)\n",
    "    phase = moon.phase\n",
    "    illumination = moon.phase\n",
    "\n",
    "    if phase == 0:\n",
    "        phase_name = 'Luna nueva'\n",
    "    elif 0 < phase < 50:\n",
    "        phase_name = 'Luna creciente'\n",
    "    elif phase == 50:\n",
    "        phase_name = 'Primer cuarto'\n",
    "    elif 50 < phase < 100:\n",
    "        phase_name = 'Luna menguante'\n",
    "    elif phase == 100:\n",
    "        phase_name = 'Luna llena'\n",
    "    elif 100 < phase < 150:\n",
    "        phase_name = 'Giboso menguante'\n",
    "    elif phase == 150:\n",
    "        phase_name = 'Último cuarto Luna'\n",
    "    elif 150 < phase < 200:\n",
    "        phase_name = 'Creciente menguante'\n",
    "    else:\n",
    "        phase_name = 'Unknown'\n",
    "    \n",
    "    return phase_name, f\"{illumination:.2f}\"\n",
    "\n"
   ]
  },
  {
   "cell_type": "markdown",
   "metadata": {},
   "source": [
    "Integración de variables  dimension de tiempo con fases lunares "
   ]
  },
  {
   "cell_type": "code",
   "execution_count": 8,
   "metadata": {},
   "outputs": [],
   "source": [
    "tbl_dim_tiempo['fecha'] = pd.to_datetime(tbl_dim_tiempo['fecha'])\n",
    "#tbl_dim_tiempo[['fase_lunar', 'iluminacion']] = tbl_dim_tiempo['fecha'].apply(lambda date: pd.Series(get_lunar_phase_and_illumination(date)))\n"
   ]
  },
  {
   "cell_type": "code",
   "execution_count": 9,
   "metadata": {},
   "outputs": [
    {
     "data": {
      "text/html": [
       "<div>\n",
       "<style scoped>\n",
       "    .dataframe tbody tr th:only-of-type {\n",
       "        vertical-align: middle;\n",
       "    }\n",
       "\n",
       "    .dataframe tbody tr th {\n",
       "        vertical-align: top;\n",
       "    }\n",
       "\n",
       "    .dataframe thead th {\n",
       "        text-align: right;\n",
       "    }\n",
       "</style>\n",
       "<table border=\"1\" class=\"dataframe\">\n",
       "  <thead>\n",
       "    <tr style=\"text-align: right;\">\n",
       "      <th></th>\n",
       "      <th>fecha_hora</th>\n",
       "      <th>fecha</th>\n",
       "      <th>fecha_id</th>\n",
       "      <th>mes</th>\n",
       "      <th>dia_mes</th>\n",
       "      <th>semana</th>\n",
       "      <th>dia</th>\n",
       "    </tr>\n",
       "  </thead>\n",
       "  <tbody>\n",
       "    <tr>\n",
       "      <th>0</th>\n",
       "      <td>2021-09-01 00:00:00</td>\n",
       "      <td>2021-09-01</td>\n",
       "      <td>2021-09-01 00</td>\n",
       "      <td>09</td>\n",
       "      <td>01</td>\n",
       "      <td>35</td>\n",
       "      <td>Miércoles</td>\n",
       "    </tr>\n",
       "    <tr>\n",
       "      <th>1</th>\n",
       "      <td>2021-09-01 01:00:00</td>\n",
       "      <td>2021-09-01</td>\n",
       "      <td>2021-09-01 01</td>\n",
       "      <td>09</td>\n",
       "      <td>01</td>\n",
       "      <td>35</td>\n",
       "      <td>Miércoles</td>\n",
       "    </tr>\n",
       "    <tr>\n",
       "      <th>2</th>\n",
       "      <td>2021-09-01 02:00:00</td>\n",
       "      <td>2021-09-01</td>\n",
       "      <td>2021-09-01 02</td>\n",
       "      <td>09</td>\n",
       "      <td>01</td>\n",
       "      <td>35</td>\n",
       "      <td>Miércoles</td>\n",
       "    </tr>\n",
       "    <tr>\n",
       "      <th>3</th>\n",
       "      <td>2021-09-01 03:00:00</td>\n",
       "      <td>2021-09-01</td>\n",
       "      <td>2021-09-01 03</td>\n",
       "      <td>09</td>\n",
       "      <td>01</td>\n",
       "      <td>35</td>\n",
       "      <td>Miércoles</td>\n",
       "    </tr>\n",
       "    <tr>\n",
       "      <th>4</th>\n",
       "      <td>2021-09-01 04:00:00</td>\n",
       "      <td>2021-09-01</td>\n",
       "      <td>2021-09-01 04</td>\n",
       "      <td>09</td>\n",
       "      <td>01</td>\n",
       "      <td>35</td>\n",
       "      <td>Miércoles</td>\n",
       "    </tr>\n",
       "  </tbody>\n",
       "</table>\n",
       "</div>"
      ],
      "text/plain": [
       "           fecha_hora      fecha       fecha_id mes dia_mes  semana        dia\n",
       "0 2021-09-01 00:00:00 2021-09-01  2021-09-01 00  09      01      35  Miércoles\n",
       "1 2021-09-01 01:00:00 2021-09-01  2021-09-01 01  09      01      35  Miércoles\n",
       "2 2021-09-01 02:00:00 2021-09-01  2021-09-01 02  09      01      35  Miércoles\n",
       "3 2021-09-01 03:00:00 2021-09-01  2021-09-01 03  09      01      35  Miércoles\n",
       "4 2021-09-01 04:00:00 2021-09-01  2021-09-01 04  09      01      35  Miércoles"
      ]
     },
     "execution_count": 9,
     "metadata": {},
     "output_type": "execute_result"
    }
   ],
   "source": [
    "tbl_dim_tiempo.head(5)"
   ]
  },
  {
   "cell_type": "markdown",
   "metadata": {},
   "source": [
    "Carga de nueva dimension de tiempo con variables exogenas a base de datos local"
   ]
  },
  {
   "cell_type": "code",
   "execution_count": 11,
   "metadata": {},
   "outputs": [],
   "source": [
    "#conexion Base de datos\n",
    "db_path = 'Data_Base.db'\n",
    "conn = sqlite3.connect(db_path)"
   ]
  },
  {
   "cell_type": "code",
   "execution_count": 12,
   "metadata": {},
   "outputs": [
    {
     "data": {
      "text/plain": [
       "17521"
      ]
     },
     "execution_count": 12,
     "metadata": {},
     "output_type": "execute_result"
    }
   ],
   "source": [
    "\n",
    "tbl_dim_tiempo.to_sql(\"tbl_dim_tiempo\", conn, if_exists='replace', index=False)"
   ]
  }
 ],
 "metadata": {
  "kernelspec": {
   "display_name": "base",
   "language": "python",
   "name": "python3"
  },
  "language_info": {
   "codemirror_mode": {
    "name": "ipython",
    "version": 3
   },
   "file_extension": ".py",
   "mimetype": "text/x-python",
   "name": "python",
   "nbconvert_exporter": "python",
   "pygments_lexer": "ipython3",
   "version": "3.10.9"
  }
 },
 "nbformat": 4,
 "nbformat_minor": 2
}
